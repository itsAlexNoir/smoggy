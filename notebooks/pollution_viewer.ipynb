{
 "cells": [
  {
   "cell_type": "code",
   "execution_count": 1,
   "metadata": {},
   "outputs": [],
   "source": [
    "import numpy as np\n",
    "import pandas as pd"
   ]
  },
  {
   "cell_type": "markdown",
   "metadata": {},
   "source": [
    "## Loading csv into dataframes"
   ]
  },
  {
   "cell_type": "code",
   "execution_count": 25,
   "metadata": {},
   "outputs": [],
   "source": [
    "filename = '../csv/Anio2002.csv'\n",
    "df = pd.read_csv(filename)"
   ]
  },
  {
   "cell_type": "code",
   "execution_count": 26,
   "metadata": {},
   "outputs": [
    {
     "data": {
      "text/html": [
       "<div>\n",
       "<style scoped>\n",
       "    .dataframe tbody tr th:only-of-type {\n",
       "        vertical-align: middle;\n",
       "    }\n",
       "\n",
       "    .dataframe tbody tr th {\n",
       "        vertical-align: top;\n",
       "    }\n",
       "\n",
       "    .dataframe thead th {\n",
       "        text-align: right;\n",
       "    }\n",
       "</style>\n",
       "<table border=\"1\" class=\"dataframe\">\n",
       "  <thead>\n",
       "    <tr style=\"text-align: right;\">\n",
       "      <th></th>\n",
       "      <th>año</th>\n",
       "      <th>compuesto</th>\n",
       "      <th>dia</th>\n",
       "      <th>estacion</th>\n",
       "      <th>hora 1</th>\n",
       "      <th>hora 10</th>\n",
       "      <th>hora 11</th>\n",
       "      <th>hora 12</th>\n",
       "      <th>hora 13</th>\n",
       "      <th>hora 14</th>\n",
       "      <th>...</th>\n",
       "      <th>validez 22</th>\n",
       "      <th>validez 23</th>\n",
       "      <th>validez 24</th>\n",
       "      <th>validez 3</th>\n",
       "      <th>validez 4</th>\n",
       "      <th>validez 5</th>\n",
       "      <th>validez 6</th>\n",
       "      <th>validez 7</th>\n",
       "      <th>validez 8</th>\n",
       "      <th>validez 9</th>\n",
       "    </tr>\n",
       "  </thead>\n",
       "  <tbody>\n",
       "    <tr>\n",
       "      <th>0</th>\n",
       "      <td>2</td>\n",
       "      <td>1</td>\n",
       "      <td>1</td>\n",
       "      <td>28079001</td>\n",
       "      <td>21.32</td>\n",
       "      <td>15.71</td>\n",
       "      <td>19.33</td>\n",
       "      <td>17.75</td>\n",
       "      <td>12.92</td>\n",
       "      <td>12.48</td>\n",
       "      <td>...</td>\n",
       "      <td>V</td>\n",
       "      <td>V</td>\n",
       "      <td>V</td>\n",
       "      <td>V</td>\n",
       "      <td>V</td>\n",
       "      <td>V</td>\n",
       "      <td>V</td>\n",
       "      <td>V</td>\n",
       "      <td>V</td>\n",
       "      <td>V</td>\n",
       "    </tr>\n",
       "    <tr>\n",
       "      <th>1</th>\n",
       "      <td>2</td>\n",
       "      <td>1</td>\n",
       "      <td>2</td>\n",
       "      <td>28079001</td>\n",
       "      <td>6.25</td>\n",
       "      <td>29.13</td>\n",
       "      <td>19.83</td>\n",
       "      <td>18.09</td>\n",
       "      <td>12.41</td>\n",
       "      <td>11.94</td>\n",
       "      <td>...</td>\n",
       "      <td>V</td>\n",
       "      <td>V</td>\n",
       "      <td>V</td>\n",
       "      <td>V</td>\n",
       "      <td>V</td>\n",
       "      <td>V</td>\n",
       "      <td>V</td>\n",
       "      <td>V</td>\n",
       "      <td>V</td>\n",
       "      <td>V</td>\n",
       "    </tr>\n",
       "    <tr>\n",
       "      <th>2</th>\n",
       "      <td>2</td>\n",
       "      <td>1</td>\n",
       "      <td>3</td>\n",
       "      <td>28079001</td>\n",
       "      <td>10.06</td>\n",
       "      <td>11.87</td>\n",
       "      <td>14.15</td>\n",
       "      <td>14.81</td>\n",
       "      <td>15.71</td>\n",
       "      <td>18.06</td>\n",
       "      <td>...</td>\n",
       "      <td>V</td>\n",
       "      <td>V</td>\n",
       "      <td>V</td>\n",
       "      <td>V</td>\n",
       "      <td>V</td>\n",
       "      <td>V</td>\n",
       "      <td>V</td>\n",
       "      <td>V</td>\n",
       "      <td>V</td>\n",
       "      <td>V</td>\n",
       "    </tr>\n",
       "    <tr>\n",
       "      <th>3</th>\n",
       "      <td>2</td>\n",
       "      <td>1</td>\n",
       "      <td>4</td>\n",
       "      <td>28079001</td>\n",
       "      <td>9.71</td>\n",
       "      <td>26.36</td>\n",
       "      <td>22.68</td>\n",
       "      <td>17.56</td>\n",
       "      <td>18.91</td>\n",
       "      <td>17.91</td>\n",
       "      <td>...</td>\n",
       "      <td>V</td>\n",
       "      <td>V</td>\n",
       "      <td>V</td>\n",
       "      <td>V</td>\n",
       "      <td>V</td>\n",
       "      <td>V</td>\n",
       "      <td>V</td>\n",
       "      <td>V</td>\n",
       "      <td>V</td>\n",
       "      <td>V</td>\n",
       "    </tr>\n",
       "    <tr>\n",
       "      <th>4</th>\n",
       "      <td>2</td>\n",
       "      <td>1</td>\n",
       "      <td>5</td>\n",
       "      <td>28079001</td>\n",
       "      <td>17.77</td>\n",
       "      <td>25.67</td>\n",
       "      <td>16.33</td>\n",
       "      <td>15.30</td>\n",
       "      <td>16.70</td>\n",
       "      <td>16.53</td>\n",
       "      <td>...</td>\n",
       "      <td>V</td>\n",
       "      <td>V</td>\n",
       "      <td>V</td>\n",
       "      <td>V</td>\n",
       "      <td>V</td>\n",
       "      <td>V</td>\n",
       "      <td>V</td>\n",
       "      <td>V</td>\n",
       "      <td>V</td>\n",
       "      <td>V</td>\n",
       "    </tr>\n",
       "  </tbody>\n",
       "</table>\n",
       "<p>5 rows × 55 columns</p>\n",
       "</div>"
      ],
      "text/plain": [
       "   año  compuesto  dia  estacion  hora 1  hora 10  hora 11  hora 12  hora 13  \\\n",
       "0    2          1    1  28079001   21.32    15.71    19.33    17.75    12.92   \n",
       "1    2          1    2  28079001    6.25    29.13    19.83    18.09    12.41   \n",
       "2    2          1    3  28079001   10.06    11.87    14.15    14.81    15.71   \n",
       "3    2          1    4  28079001    9.71    26.36    22.68    17.56    18.91   \n",
       "4    2          1    5  28079001   17.77    25.67    16.33    15.30    16.70   \n",
       "\n",
       "   hora 14    ...      validez 22  validez 23  validez 24  validez 3  \\\n",
       "0    12.48    ...               V           V           V          V   \n",
       "1    11.94    ...               V           V           V          V   \n",
       "2    18.06    ...               V           V           V          V   \n",
       "3    17.91    ...               V           V           V          V   \n",
       "4    16.53    ...               V           V           V          V   \n",
       "\n",
       "   validez 4  validez 5  validez 6  validez 7  validez 8  validez 9  \n",
       "0          V          V          V          V          V          V  \n",
       "1          V          V          V          V          V          V  \n",
       "2          V          V          V          V          V          V  \n",
       "3          V          V          V          V          V          V  \n",
       "4          V          V          V          V          V          V  \n",
       "\n",
       "[5 rows x 55 columns]"
      ]
     },
     "execution_count": 26,
     "metadata": {},
     "output_type": "execute_result"
    }
   ],
   "source": [
    "df.head()"
   ]
  },
  {
   "cell_type": "code",
   "execution_count": 27,
   "metadata": {},
   "outputs": [
    {
     "data": {
      "text/plain": [
       "array([28079001, 28079002, 28079003, 28079004, 28079005, 28079006,\n",
       "       28079007, 28079009, 28079010, 28079011, 28079012, 28079013,\n",
       "       28079014, 28079015, 28079016, 28079017, 28079018, 28079019,\n",
       "       28079020, 28079021, 28079022, 28079023, 28079024, 28079025,\n",
       "       28079099, 28079008])"
      ]
     },
     "execution_count": 27,
     "metadata": {},
     "output_type": "execute_result"
    }
   ],
   "source": [
    "df['estacion'].unique()"
   ]
  },
  {
   "cell_type": "code",
   "execution_count": 28,
   "metadata": {},
   "outputs": [],
   "source": [
    "dd = df[df['estacion']==28079099]"
   ]
  },
  {
   "cell_type": "code",
   "execution_count": 31,
   "metadata": {},
   "outputs": [],
   "source": [
    "ss = dd[dd['compuesto']==58]"
   ]
  },
  {
   "cell_type": "code",
   "execution_count": 34,
   "metadata": {},
   "outputs": [
    {
     "data": {
      "text/plain": [
       "array([ 1,  6,  8, 10, 12, 14, 20, 30, 35, 37, 38, 39, 42, 44])"
      ]
     },
     "execution_count": 34,
     "metadata": {},
     "output_type": "execute_result"
    }
   ],
   "source": [
    "df.compuesto.unique()"
   ]
  },
  {
   "cell_type": "code",
   "execution_count": 40,
   "metadata": {},
   "outputs": [
    {
     "data": {
      "text/plain": [
       "[1, 2, 3, 4, 5, 6, 7, 8, 9, 10, 11, 12]"
      ]
     },
     "execution_count": 40,
     "metadata": {},
     "output_type": "execute_result"
    }
   ],
   "source": [
    "sorted(df['mes'].unique())"
   ]
  },
  {
   "cell_type": "code",
   "execution_count": null,
   "metadata": {},
   "outputs": [],
   "source": []
  }
 ],
 "metadata": {
  "kernelspec": {
   "display_name": "Python 3",
   "language": "python",
   "name": "python3"
  },
  "language_info": {
   "codemirror_mode": {
    "name": "ipython",
    "version": 3
   },
   "file_extension": ".py",
   "mimetype": "text/x-python",
   "name": "python",
   "nbconvert_exporter": "python",
   "pygments_lexer": "ipython3",
   "version": "3.6.6"
  }
 },
 "nbformat": 4,
 "nbformat_minor": 2
}
